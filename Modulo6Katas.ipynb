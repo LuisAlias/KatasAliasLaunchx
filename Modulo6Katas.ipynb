{
 "cells": [
  {
   "cell_type": "markdown",
   "metadata": {},
   "source": [
    "#Ejercicio1"
   ]
  },
  {
   "cell_type": "code",
   "execution_count": 38,
   "metadata": {},
   "outputs": [
    {
     "name": "stdout",
     "output_type": "stream",
     "text": [
      "son 8 planetas\n"
     ]
    }
   ],
   "source": [
    "planets = [\"mercurio\",\"venus\",\"tierra\",\"marte\",\"juiter\",\"saturno\",\"urano\",\"neptuno\"]\n",
    "\n",
    "print(\"son\",len(planets),\"planetas\")"
   ]
  },
  {
   "cell_type": "code",
   "execution_count": 39,
   "metadata": {},
   "outputs": [
    {
     "name": "stdout",
     "output_type": "stream",
     "text": [
      "El ultimo planeta es pluton\n"
     ]
    }
   ],
   "source": [
    "planets.append(\"pluton\")\n",
    "print(\"El ultimo planeta es\", planets[-1])"
   ]
  },
  {
   "cell_type": "markdown",
   "metadata": {},
   "source": [
    "#Ejercicio2"
   ]
  },
  {
   "cell_type": "code",
   "execution_count": 44,
   "metadata": {},
   "outputs": [],
   "source": [
    "# Lista de planetas\n",
    "planets = ['Mercury', 'Venus', 'Earth', 'Mars', 'Jupiter', 'Saturn', 'Neptune']"
   ]
  },
  {
   "cell_type": "code",
   "execution_count": 45,
   "metadata": {},
   "outputs": [],
   "source": [
    "dato = input(\"ingrese un planeta comenzando con la letra en mayuscula\")"
   ]
  },
  {
   "cell_type": "code",
   "execution_count": 46,
   "metadata": {},
   "outputs": [
    {
     "name": "stdout",
     "output_type": "stream",
     "text": [
      "4\n"
     ]
    }
   ],
   "source": [
    "busqueda = planets.index(dato)\n",
    "print(busqueda)"
   ]
  },
  {
   "cell_type": "code",
   "execution_count": 47,
   "metadata": {},
   "outputs": [
    {
     "name": "stdout",
     "output_type": "stream",
     "text": [
      "los planetas mas cercanos al sol del planeta que buscaste son: ['Mercury', 'Venus', 'Earth', 'Mars']\n"
     ]
    }
   ],
   "source": [
    "#busqueda2 = int(busqueda)\n",
    "planetas_mas_cercanos = planets[0:busqueda]\n",
    "print(\"los planetas mas cercanos al sol del planeta que buscaste son:\", planetas_mas_cercanos)"
   ]
  },
  {
   "cell_type": "code",
   "execution_count": 49,
   "metadata": {},
   "outputs": [
    {
     "name": "stdout",
     "output_type": "stream",
     "text": [
      "los planetas mas lejanos al sol del planeta que buscaste son: ['Saturn', 'Neptune']\n"
     ]
    }
   ],
   "source": [
    "#busqueda3 = busqueda2 + 1\n",
    "planetas_mas_lejanos = planets[busqueda + 1:]\n",
    "print(\"los planetas mas lejanos al sol del planeta que buscaste son:\", planetas_mas_lejanos)"
   ]
  }
 ],
 "metadata": {
  "interpreter": {
   "hash": "20c5d0bd8dd08ac6340ccc92934e06cb7b283699035cc184f4ac78e6cbcc7e85"
  },
  "kernelspec": {
   "display_name": "Python 3.10.2 64-bit",
   "language": "python",
   "name": "python3"
  },
  "language_info": {
   "codemirror_mode": {
    "name": "ipython",
    "version": 3
   },
   "file_extension": ".py",
   "mimetype": "text/x-python",
   "name": "python",
   "nbconvert_exporter": "python",
   "pygments_lexer": "ipython3",
   "version": "3.10.2"
  },
  "orig_nbformat": 4
 },
 "nbformat": 4,
 "nbformat_minor": 2
}
