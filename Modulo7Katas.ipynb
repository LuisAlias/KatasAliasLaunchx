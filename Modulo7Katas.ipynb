{
 "cells": [
  {
   "cell_type": "markdown",
   "metadata": {},
   "source": [
    "#Ejercicio1"
   ]
  },
  {
   "cell_type": "code",
   "execution_count": 25,
   "metadata": {},
   "outputs": [
    {
     "name": "stdout",
     "output_type": "stream",
     "text": [
      "mercurio\n"
     ]
    }
   ],
   "source": [
    "new_planet = input(\"ingresa un nuevo planeta\")\n",
    "planets = []\n",
    "print(new_planet)\n"
   ]
  },
  {
   "cell_type": "code",
   "execution_count": 26,
   "metadata": {},
   "outputs": [
    {
     "name": "stdout",
     "output_type": "stream",
     "text": [
      "['mercurio', 'venus', 'tierra', 'marte']\n"
     ]
    }
   ],
   "source": [
    "while new_planet != \"done\":\n",
    "\n",
    "    planets.append(new_planet)\n",
    "    new_planet = input(\"ingresa un nuevo planeta\")\n",
    "    \n",
    "print(planets)"
   ]
  },
  {
   "cell_type": "markdown",
   "metadata": {},
   "source": [
    "#Ejercicio2"
   ]
  },
  {
   "cell_type": "code",
   "execution_count": 28,
   "metadata": {},
   "outputs": [
    {
     "name": "stdout",
     "output_type": "stream",
     "text": [
      "El planeta mercurio\n",
      "El planeta venus\n",
      "El planeta tierra\n",
      "El planeta marte\n"
     ]
    }
   ],
   "source": [
    "for dato_ingresado in planets:\n",
    "    print(\"El planeta\",dato_ingresado)"
   ]
  }
 ],
 "metadata": {
  "interpreter": {
   "hash": "20c5d0bd8dd08ac6340ccc92934e06cb7b283699035cc184f4ac78e6cbcc7e85"
  },
  "kernelspec": {
   "display_name": "Python 3.10.2 64-bit",
   "language": "python",
   "name": "python3"
  },
  "language_info": {
   "codemirror_mode": {
    "name": "ipython",
    "version": 3
   },
   "file_extension": ".py",
   "mimetype": "text/x-python",
   "name": "python",
   "nbconvert_exporter": "python",
   "pygments_lexer": "ipython3",
   "version": "3.10.2"
  },
  "orig_nbformat": 4
 },
 "nbformat": 4,
 "nbformat_minor": 2
}
