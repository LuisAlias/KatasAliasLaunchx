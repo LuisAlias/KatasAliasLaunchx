{
 "cells": [
  {
   "cell_type": "code",
   "execution_count": 1,
   "metadata": {},
   "outputs": [
    {
     "name": "stdout",
     "output_type": "stream",
     "text": [
      "mayor\n"
     ]
    }
   ],
   "source": [
    "if 2>1:\n",
    "    print(\"mayor\")\n",
    "    # intrucción(es) a ejecutar"
   ]
  },
  {
   "cell_type": "code",
   "execution_count": 5,
   "metadata": {},
   "outputs": [
    {
     "name": "stdout",
     "output_type": "stream",
     "text": [
      "2 es mayor a 4\n"
     ]
    }
   ],
   "source": [
    "if 0>3:\n",
    "    # intrucción(es) a ejecutar\n",
    "    if 2<3:\n",
    "        print(\"es menor 2 a 3\")\n",
    "        # intrucción(es) a ejecutar\n",
    "    else: \n",
    "        print(\"3 es mayor a 2\")\n",
    "        # intrucción(es) a ejecutar\n",
    "elif 4<2:\n",
    "    print(\"4 es menor a 2\")\n",
    "    # intrucción(es) a ejecutar\n",
    "else:\n",
    "    print(\"2 es mayor a 4\")\n",
    "    # intrucción(es) a ejecutar"
   ]
  },
  {
   "cell_type": "code",
   "execution_count": 11,
   "metadata": {},
   "outputs": [
    {
     "name": "stdout",
     "output_type": "stream",
     "text": [
      "no hay problema\n"
     ]
    }
   ],
   "source": [
    "\n",
    "#mayor a 25km/s advertencia\n",
    "#viaja a 49km/s\n",
    "\n",
    "velocidad= input(\"introduzca la velocidad del asteroide\")\n",
    "\n",
    "if int(velocidad) > 25:\n",
    "    print(\"ADVERTENCIA\")\n",
    "else:\n",
    "    print(\"no hay problema\")"
   ]
  },
  {
   "cell_type": "code",
   "execution_count": 16,
   "metadata": {},
   "outputs": [
    {
     "name": "stdout",
     "output_type": "stream",
     "text": [
      "Busca un asteroide en el cieloo\n"
     ]
    }
   ],
   "source": [
    "#mayor o igual a 20km/s rayo de luz\n",
    "#se acerca uno a 19km/s\n",
    "\n",
    "velocidad= input(\"introduzca la velocidad del asteroide\")\n",
    "\n",
    "if int(velocidad) > 20:\n",
    "    print(\"Busca un asteroide en el cielo\")\n",
    "elif int(velocidad) == 20:\n",
    "    print(\"Busca un asteroide en el cieloo\")\n",
    "else:\n",
    "    print(\"no hay problema\")"
   ]
  },
  {
   "cell_type": "code",
   "execution_count": 21,
   "metadata": {},
   "outputs": [
    {
     "name": "stdout",
     "output_type": "stream",
     "text": [
      "Busca un asteroide en el cielo\n"
     ]
    }
   ],
   "source": [
    "#velocidad mayor a 25km/s advertencia y tamaño más de 25 mts\n",
    "#mayor o igual a 20km/s rayo de luz\n",
    "\n",
    "velocidad = input(\"introduzca la velocidad del asteroide\")\n",
    "tamaño = input(\"introduzca el tamaño del asteroide\")\n",
    "\n",
    "if int(velocidad) > 25 and int(tamaño) > 25:\n",
    "    print(\"Peligro choque de asteroide\")\n",
    "elif int(velocidad) == 20 or int(velocidad) > 20:\n",
    "    print(\"Busca un asteroide en el cielo\")\n",
    "else:\n",
    "    print(\"no hay problema\")"
   ]
  }
 ],
 "metadata": {
  "interpreter": {
   "hash": "20c5d0bd8dd08ac6340ccc92934e06cb7b283699035cc184f4ac78e6cbcc7e85"
  },
  "kernelspec": {
   "display_name": "Python 3.10.2 64-bit",
   "language": "python",
   "name": "python3"
  },
  "language_info": {
   "codemirror_mode": {
    "name": "ipython",
    "version": 3
   },
   "file_extension": ".py",
   "mimetype": "text/x-python",
   "name": "python",
   "nbconvert_exporter": "python",
   "pygments_lexer": "ipython3",
   "version": "3.10.2"
  },
  "orig_nbformat": 4
 },
 "nbformat": 4,
 "nbformat_minor": 2
}
